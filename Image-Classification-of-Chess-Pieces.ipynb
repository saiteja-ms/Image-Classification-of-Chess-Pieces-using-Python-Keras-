{
  "nbformat": 4,
  "nbformat_minor": 0,
  "metadata": {
    "colab": {
      "provenance": [],
      "include_colab_link": true
    },
    "kernelspec": {
      "name": "python3",
      "display_name": "Python 3"
    },
    "language_info": {
      "name": "python"
    }
  },
  "cells": [
    {
      "cell_type": "markdown",
      "metadata": {
        "id": "view-in-github",
        "colab_type": "text"
      },
      "source": [
        "<a href=\"https://colab.research.google.com/github/saiteja-ms/Image-Classification-of-Chess-Pieces-using-Python-Keras-/blob/main/Image-Classification-of-Chess-Pieces.ipynb\" target=\"_parent\"><img src=\"https://colab.research.google.com/assets/colab-badge.svg\" alt=\"Open In Colab\"/></a>"
      ]
    },
    {
      "cell_type": "code",
      "execution_count": 1,
      "metadata": {
        "colab": {
          "base_uri": "https://localhost:8080/"
        },
        "id": "r0Pqe2zVK-Wl",
        "outputId": "2ade28a9-b70c-45ae-f784-f6bdc0f8e951"
      },
      "outputs": [
        {
          "output_type": "stream",
          "name": "stdout",
          "text": [
            "Requirement already satisfied: kaggle in /usr/local/lib/python3.10/dist-packages (1.5.16)\n",
            "Requirement already satisfied: six>=1.10 in /usr/local/lib/python3.10/dist-packages (from kaggle) (1.16.0)\n",
            "Requirement already satisfied: certifi in /usr/local/lib/python3.10/dist-packages (from kaggle) (2024.2.2)\n",
            "Requirement already satisfied: python-dateutil in /usr/local/lib/python3.10/dist-packages (from kaggle) (2.8.2)\n",
            "Requirement already satisfied: requests in /usr/local/lib/python3.10/dist-packages (from kaggle) (2.31.0)\n",
            "Requirement already satisfied: tqdm in /usr/local/lib/python3.10/dist-packages (from kaggle) (4.66.2)\n",
            "Requirement already satisfied: python-slugify in /usr/local/lib/python3.10/dist-packages (from kaggle) (8.0.4)\n",
            "Requirement already satisfied: urllib3 in /usr/local/lib/python3.10/dist-packages (from kaggle) (2.0.7)\n",
            "Requirement already satisfied: bleach in /usr/local/lib/python3.10/dist-packages (from kaggle) (6.1.0)\n",
            "Requirement already satisfied: webencodings in /usr/local/lib/python3.10/dist-packages (from bleach->kaggle) (0.5.1)\n",
            "Requirement already satisfied: text-unidecode>=1.3 in /usr/local/lib/python3.10/dist-packages (from python-slugify->kaggle) (1.3)\n",
            "Requirement already satisfied: charset-normalizer<4,>=2 in /usr/local/lib/python3.10/dist-packages (from requests->kaggle) (3.3.2)\n",
            "Requirement already satisfied: idna<4,>=2.5 in /usr/local/lib/python3.10/dist-packages (from requests->kaggle) (3.6)\n"
          ]
        }
      ],
      "source": [
        "!pip install kaggle"
      ]
    },
    {
      "cell_type": "code",
      "source": [
        "! mkdir ~/.kaggle"
      ],
      "metadata": {
        "id": "fVYluyXDOZvm"
      },
      "execution_count": 2,
      "outputs": []
    },
    {
      "cell_type": "code",
      "source": [
        "! cp kaggle.json ~/.kaggle"
      ],
      "metadata": {
        "id": "Bn2p2nOEOh8n"
      },
      "execution_count": 3,
      "outputs": []
    },
    {
      "cell_type": "code",
      "source": [
        "! chmod 600 ~/.kaggle/kaggle.json"
      ],
      "metadata": {
        "id": "Gw7jgJU8OqsB"
      },
      "execution_count": 4,
      "outputs": []
    },
    {
      "cell_type": "code",
      "source": [
        "! kaggle datasets download niteshfre/chessman-image-dataset"
      ],
      "metadata": {
        "colab": {
          "base_uri": "https://localhost:8080/"
        },
        "id": "64SZvO2rLbcM",
        "outputId": "2106778c-7197-4f32-ce31-b71cfafa432a"
      },
      "execution_count": 5,
      "outputs": [
        {
          "output_type": "stream",
          "name": "stdout",
          "text": [
            "Downloading chessman-image-dataset.zip to /content\n",
            " 87% 50.0M/57.6M [00:00<00:00, 126MB/s] \n",
            "100% 57.6M/57.6M [00:00<00:00, 113MB/s]\n"
          ]
        }
      ]
    },
    {
      "cell_type": "code",
      "source": [
        "! unzip chessman-image-dataset.zip"
      ],
      "metadata": {
        "id": "pHeGibX_OhGE",
        "outputId": "d14731bf-3785-4ce8-df75-2cc232b4d6c1",
        "colab": {
          "base_uri": "https://localhost:8080/"
        }
      },
      "execution_count": 6,
      "outputs": [
        {
          "output_type": "stream",
          "name": "stdout",
          "text": [
            "Archive:  chessman-image-dataset.zip\n",
            "  inflating: Chessman-image-dataset/Chess/Bishop/00000000.JPG  \n",
            "  inflating: Chessman-image-dataset/Chess/Bishop/00000001.jpg  \n",
            "  inflating: Chessman-image-dataset/Chess/Bishop/00000002.JPG  \n",
            "  inflating: Chessman-image-dataset/Chess/Bishop/00000003.png  \n",
            "  inflating: Chessman-image-dataset/Chess/Bishop/00000004.jpg  \n",
            "  inflating: Chessman-image-dataset/Chess/Bishop/00000006.jpg  \n",
            "  inflating: Chessman-image-dataset/Chess/Bishop/00000007.jpg  \n",
            "  inflating: Chessman-image-dataset/Chess/Bishop/00000008.jpg  \n",
            "  inflating: Chessman-image-dataset/Chess/Bishop/00000009.png  \n",
            "  inflating: Chessman-image-dataset/Chess/Bishop/00000010.jpg  \n",
            "  inflating: Chessman-image-dataset/Chess/Bishop/00000011.jpg  \n",
            "  inflating: Chessman-image-dataset/Chess/Bishop/00000012.jpg  \n",
            "  inflating: Chessman-image-dataset/Chess/Bishop/00000013.jpg  \n",
            "  inflating: Chessman-image-dataset/Chess/Bishop/00000015.png  \n",
            "  inflating: Chessman-image-dataset/Chess/Bishop/00000016.jpg  \n",
            "  inflating: Chessman-image-dataset/Chess/Bishop/00000017.jpg  \n",
            "  inflating: Chessman-image-dataset/Chess/Bishop/00000018.jpg  \n",
            "  inflating: Chessman-image-dataset/Chess/Bishop/00000019.jpg  \n",
            "  inflating: Chessman-image-dataset/Chess/Bishop/00000020.jpg  \n",
            "  inflating: Chessman-image-dataset/Chess/Bishop/00000024.jpg  \n",
            "  inflating: Chessman-image-dataset/Chess/Bishop/00000025.jpg  \n",
            "  inflating: Chessman-image-dataset/Chess/Bishop/00000026.jpg  \n",
            "  inflating: Chessman-image-dataset/Chess/Bishop/00000028.jpg  \n",
            "  inflating: Chessman-image-dataset/Chess/Bishop/00000031.jpg  \n",
            "  inflating: Chessman-image-dataset/Chess/Bishop/00000034.jpg  \n",
            "  inflating: Chessman-image-dataset/Chess/Bishop/00000037.jpg  \n",
            "  inflating: Chessman-image-dataset/Chess/Bishop/00000039.jpg  \n",
            "  inflating: Chessman-image-dataset/Chess/Bishop/00000042.jpg  \n",
            "  inflating: Chessman-image-dataset/Chess/Bishop/00000044.png  \n",
            "  inflating: Chessman-image-dataset/Chess/Bishop/00000049.jpg  \n",
            "  inflating: Chessman-image-dataset/Chess/Bishop/00000054.jpeg  \n",
            "  inflating: Chessman-image-dataset/Chess/Bishop/00000061.jpg  \n",
            "  inflating: Chessman-image-dataset/Chess/Bishop/00000062.jpg  \n",
            "  inflating: Chessman-image-dataset/Chess/Bishop/00000066.jpg  \n",
            "  inflating: Chessman-image-dataset/Chess/Bishop/00000068.png  \n",
            "  inflating: Chessman-image-dataset/Chess/Bishop/00000070.jpg  \n",
            "  inflating: Chessman-image-dataset/Chess/Bishop/00000071.png  \n",
            "  inflating: Chessman-image-dataset/Chess/Bishop/00000074.jpg  \n",
            "  inflating: Chessman-image-dataset/Chess/Bishop/00000075.jpg  \n",
            "  inflating: Chessman-image-dataset/Chess/Bishop/00000078.jpg  \n",
            "  inflating: Chessman-image-dataset/Chess/Bishop/00000079.jpg  \n",
            "  inflating: Chessman-image-dataset/Chess/Bishop/00000081.jpg  \n",
            "  inflating: Chessman-image-dataset/Chess/Bishop/00000082.jpg  \n",
            "  inflating: Chessman-image-dataset/Chess/Bishop/00000086.png  \n",
            "  inflating: Chessman-image-dataset/Chess/Bishop/00000088.jpg  \n",
            "  inflating: Chessman-image-dataset/Chess/Bishop/00000089.jpg  \n",
            "  inflating: Chessman-image-dataset/Chess/Bishop/00000092.jpg  \n",
            "  inflating: Chessman-image-dataset/Chess/Bishop/00000094.jpg  \n",
            "  inflating: Chessman-image-dataset/Chess/Bishop/00000095.gif  \n",
            "  inflating: Chessman-image-dataset/Chess/Bishop/00000102.jpg  \n",
            "  inflating: Chessman-image-dataset/Chess/Bishop/00000103.jpg  \n",
            "  inflating: Chessman-image-dataset/Chess/Bishop/00000109.jpg  \n",
            "  inflating: Chessman-image-dataset/Chess/Bishop/00000110.jpg  \n",
            "  inflating: Chessman-image-dataset/Chess/Bishop/00000112.jpg  \n",
            "  inflating: Chessman-image-dataset/Chess/Bishop/00000113.png  \n",
            "  inflating: Chessman-image-dataset/Chess/Bishop/00000114.jpg  \n",
            "  inflating: Chessman-image-dataset/Chess/Bishop/00000115.jpg  \n",
            "  inflating: Chessman-image-dataset/Chess/Bishop/00000117.jpg  \n",
            "  inflating: Chessman-image-dataset/Chess/Bishop/00000120.jpg  \n",
            "  inflating: Chessman-image-dataset/Chess/Bishop/00000121.jpg  \n",
            "  inflating: Chessman-image-dataset/Chess/Bishop/00000126.jpg  \n",
            "  inflating: Chessman-image-dataset/Chess/Bishop/00000127.jpg  \n",
            "  inflating: Chessman-image-dataset/Chess/Bishop/00000129.jpg  \n",
            "  inflating: Chessman-image-dataset/Chess/Bishop/00000130.png  \n",
            "  inflating: Chessman-image-dataset/Chess/Bishop/00000136.png  \n",
            "  inflating: Chessman-image-dataset/Chess/Bishop/00000138.jpg  \n",
            "  inflating: Chessman-image-dataset/Chess/Bishop/00000145.jpg  \n",
            "  inflating: Chessman-image-dataset/Chess/Bishop/00000149.jpg  \n",
            "  inflating: Chessman-image-dataset/Chess/Bishop/00000150.png  \n",
            "  inflating: Chessman-image-dataset/Chess/Bishop/00000151.png  \n",
            "  inflating: Chessman-image-dataset/Chess/Bishop/00000158.jpg  \n",
            "  inflating: Chessman-image-dataset/Chess/Bishop/00000167.jpg  \n",
            "  inflating: Chessman-image-dataset/Chess/Bishop/00000168.jpg  \n",
            "  inflating: Chessman-image-dataset/Chess/Bishop/00000169.jpg  \n",
            "  inflating: Chessman-image-dataset/Chess/Bishop/00000174.jpg  \n",
            "  inflating: Chessman-image-dataset/Chess/Bishop/00000175.jpg  \n",
            "  inflating: Chessman-image-dataset/Chess/Bishop/00000177.jpg  \n",
            "  inflating: Chessman-image-dataset/Chess/Bishop/00000178.jpg  \n",
            "  inflating: Chessman-image-dataset/Chess/Bishop/00000182.jpg  \n",
            "  inflating: Chessman-image-dataset/Chess/Bishop/00000186.jpg  \n",
            "  inflating: Chessman-image-dataset/Chess/Bishop/00000188.jpg  \n",
            "  inflating: Chessman-image-dataset/Chess/Bishop/00000189.jpg  \n",
            "  inflating: Chessman-image-dataset/Chess/Bishop/00000192.jpg  \n",
            "  inflating: Chessman-image-dataset/Chess/Bishop/00000193.jpg  \n",
            "  inflating: Chessman-image-dataset/Chess/Bishop/00000194.jpg  \n",
            "  inflating: Chessman-image-dataset/Chess/Bishop/00000195.jpg  \n",
            "  inflating: Chessman-image-dataset/Chess/Bishop/00000199.jpg  \n",
            "  inflating: Chessman-image-dataset/Chess/King/00000000.jpg  \n",
            "  inflating: Chessman-image-dataset/Chess/King/00000003.jpg  \n",
            "  inflating: Chessman-image-dataset/Chess/King/00000004.jpg  \n",
            "  inflating: Chessman-image-dataset/Chess/King/00000005.jpg  \n",
            "  inflating: Chessman-image-dataset/Chess/King/00000006.JPG  \n",
            "  inflating: Chessman-image-dataset/Chess/King/00000007.jpg  \n",
            "  inflating: Chessman-image-dataset/Chess/King/00000008.png  \n",
            "  inflating: Chessman-image-dataset/Chess/King/00000012.jpg  \n",
            "  inflating: Chessman-image-dataset/Chess/King/00000013.png  \n",
            "  inflating: Chessman-image-dataset/Chess/King/00000014.jpg  \n",
            "  inflating: Chessman-image-dataset/Chess/King/00000015.jpg  \n",
            "  inflating: Chessman-image-dataset/Chess/King/00000019.jpg  \n",
            "  inflating: Chessman-image-dataset/Chess/King/00000021.jpg  \n",
            "  inflating: Chessman-image-dataset/Chess/King/00000022.jpg  \n",
            "  inflating: Chessman-image-dataset/Chess/King/00000023.png  \n",
            "  inflating: Chessman-image-dataset/Chess/King/00000025.jpg  \n",
            "  inflating: Chessman-image-dataset/Chess/King/00000027.png  \n",
            "  inflating: Chessman-image-dataset/Chess/King/00000030.jpg  \n",
            "  inflating: Chessman-image-dataset/Chess/King/00000031.jpg  \n",
            "  inflating: Chessman-image-dataset/Chess/King/00000032.jpg  \n",
            "  inflating: Chessman-image-dataset/Chess/King/00000035.png  \n",
            "  inflating: Chessman-image-dataset/Chess/King/00000036.jpg  \n",
            "  inflating: Chessman-image-dataset/Chess/King/00000037.jpg  \n",
            "  inflating: Chessman-image-dataset/Chess/King/00000042.jpg  \n",
            "  inflating: Chessman-image-dataset/Chess/King/00000043.jpg  \n",
            "  inflating: Chessman-image-dataset/Chess/King/00000044.jpg  \n",
            "  inflating: Chessman-image-dataset/Chess/King/00000045.jpg  \n",
            "  inflating: Chessman-image-dataset/Chess/King/00000049.png  \n",
            "  inflating: Chessman-image-dataset/Chess/King/00000051.png  \n",
            "  inflating: Chessman-image-dataset/Chess/King/00000054.jpg  \n",
            "  inflating: Chessman-image-dataset/Chess/King/00000056.jpg  \n",
            "  inflating: Chessman-image-dataset/Chess/King/00000058.jpg  \n",
            "  inflating: Chessman-image-dataset/Chess/King/00000060.jpg  \n",
            "  inflating: Chessman-image-dataset/Chess/King/00000061.jpg  \n",
            "  inflating: Chessman-image-dataset/Chess/King/00000062.jpg  \n",
            "  inflating: Chessman-image-dataset/Chess/King/00000063.jpeg  \n",
            "  inflating: Chessman-image-dataset/Chess/King/00000065.jpg  \n",
            "  inflating: Chessman-image-dataset/Chess/King/00000069.jpg  \n",
            "  inflating: Chessman-image-dataset/Chess/King/00000071.jpg  \n",
            "  inflating: Chessman-image-dataset/Chess/King/00000072.jpg  \n",
            "  inflating: Chessman-image-dataset/Chess/King/00000075.jpg  \n",
            "  inflating: Chessman-image-dataset/Chess/King/00000084.jpg  \n",
            "  inflating: Chessman-image-dataset/Chess/King/00000086.jpg  \n",
            "  inflating: Chessman-image-dataset/Chess/King/00000087.jpg  \n",
            "  inflating: Chessman-image-dataset/Chess/King/00000088.jpg  \n",
            "  inflating: Chessman-image-dataset/Chess/King/00000094.jpg  \n",
            "  inflating: Chessman-image-dataset/Chess/King/00000096.jpg  \n",
            "  inflating: Chessman-image-dataset/Chess/King/00000097.jpg  \n",
            "  inflating: Chessman-image-dataset/Chess/King/00000102.jpg  \n",
            "  inflating: Chessman-image-dataset/Chess/King/00000104.png  \n",
            "  inflating: Chessman-image-dataset/Chess/King/00000106.jpg  \n",
            "  inflating: Chessman-image-dataset/Chess/King/00000108.jpg  \n",
            "  inflating: Chessman-image-dataset/Chess/King/00000113.png  \n",
            "  inflating: Chessman-image-dataset/Chess/King/00000121.jpg  \n",
            "  inflating: Chessman-image-dataset/Chess/King/00000124.jpg  \n",
            "  inflating: Chessman-image-dataset/Chess/King/00000126.jpg  \n",
            "  inflating: Chessman-image-dataset/Chess/King/00000127.jpg  \n",
            "  inflating: Chessman-image-dataset/Chess/King/00000128.jpg  \n",
            "  inflating: Chessman-image-dataset/Chess/King/00000134.jpg  \n",
            "  inflating: Chessman-image-dataset/Chess/King/00000137.jpg  \n",
            "  inflating: Chessman-image-dataset/Chess/King/00000139.fcgi  \n",
            "  inflating: Chessman-image-dataset/Chess/King/00000142.jpg  \n",
            "  inflating: Chessman-image-dataset/Chess/King/00000144.jpg  \n",
            "  inflating: Chessman-image-dataset/Chess/King/00000145.png  \n",
            "  inflating: Chessman-image-dataset/Chess/King/00000146.jpg  \n",
            "  inflating: Chessman-image-dataset/Chess/King/00000148.png  \n",
            "  inflating: Chessman-image-dataset/Chess/King/00000150.png  \n",
            "  inflating: Chessman-image-dataset/Chess/King/00000166.png  \n",
            "  inflating: Chessman-image-dataset/Chess/King/00000167.jpg  \n",
            "  inflating: Chessman-image-dataset/Chess/King/00000172.jpg  \n",
            "  inflating: Chessman-image-dataset/Chess/King/00000173.jpg  \n",
            "  inflating: Chessman-image-dataset/Chess/King/00000175.jpg  \n",
            "  inflating: Chessman-image-dataset/Chess/King/00000192.jpg  \n",
            "  inflating: Chessman-image-dataset/Chess/King/00000194.jpg  \n",
            "  inflating: Chessman-image-dataset/Chess/King/00000197.jpg  \n",
            "  inflating: Chessman-image-dataset/Chess/King/00000199.jpg  \n",
            "  inflating: Chessman-image-dataset/Chess/Knight/00000000.jpg  \n",
            "  inflating: Chessman-image-dataset/Chess/Knight/00000001.jpg  \n",
            "  inflating: Chessman-image-dataset/Chess/Knight/00000002.jpg  \n",
            "  inflating: Chessman-image-dataset/Chess/Knight/00000005.png  \n",
            "  inflating: Chessman-image-dataset/Chess/Knight/00000006.jpg  \n",
            "  inflating: Chessman-image-dataset/Chess/Knight/00000008.jpg  \n",
            "  inflating: Chessman-image-dataset/Chess/Knight/00000009.jpg  \n",
            "  inflating: Chessman-image-dataset/Chess/Knight/00000010.JPG  \n",
            "  inflating: Chessman-image-dataset/Chess/Knight/00000012.jpg  \n",
            "  inflating: Chessman-image-dataset/Chess/Knight/00000013.jpg  \n",
            "  inflating: Chessman-image-dataset/Chess/Knight/00000017.jpg  \n",
            "  inflating: Chessman-image-dataset/Chess/Knight/00000018.jpg  \n",
            "  inflating: Chessman-image-dataset/Chess/Knight/00000019.jpg  \n",
            "  inflating: Chessman-image-dataset/Chess/Knight/00000021.jpg  \n",
            "  inflating: Chessman-image-dataset/Chess/Knight/00000022.jpg  \n",
            "  inflating: Chessman-image-dataset/Chess/Knight/00000023.jpg  \n",
            "  inflating: Chessman-image-dataset/Chess/Knight/00000024.jpg  \n",
            "  inflating: Chessman-image-dataset/Chess/Knight/00000026.jpg  \n",
            "  inflating: Chessman-image-dataset/Chess/Knight/00000028.jpg  \n",
            "  inflating: Chessman-image-dataset/Chess/Knight/00000029.jpg  \n",
            "  inflating: Chessman-image-dataset/Chess/Knight/00000030.jpg  \n",
            "  inflating: Chessman-image-dataset/Chess/Knight/00000031.png  \n",
            "  inflating: Chessman-image-dataset/Chess/Knight/00000032.jpg  \n",
            "  inflating: Chessman-image-dataset/Chess/Knight/00000034.JPG  \n",
            "  inflating: Chessman-image-dataset/Chess/Knight/00000036.jpg  \n",
            "  inflating: Chessman-image-dataset/Chess/Knight/00000037.jpg  \n",
            "  inflating: Chessman-image-dataset/Chess/Knight/00000038.jpg  \n",
            "  inflating: Chessman-image-dataset/Chess/Knight/00000039.jpg  \n",
            "  inflating: Chessman-image-dataset/Chess/Knight/00000040.png  \n",
            "  inflating: Chessman-image-dataset/Chess/Knight/00000041.jpg  \n",
            "  inflating: Chessman-image-dataset/Chess/Knight/00000043.jpg  \n",
            "  inflating: Chessman-image-dataset/Chess/Knight/00000046.jpg  \n",
            "  inflating: Chessman-image-dataset/Chess/Knight/00000047.jpg  \n",
            "  inflating: Chessman-image-dataset/Chess/Knight/00000048.jpg  \n",
            "  inflating: Chessman-image-dataset/Chess/Knight/00000049.jpg  \n",
            "  inflating: Chessman-image-dataset/Chess/Knight/00000050.jpg  \n",
            "  inflating: Chessman-image-dataset/Chess/Knight/00000055.jpg  \n",
            "  inflating: Chessman-image-dataset/Chess/Knight/00000058.png  \n",
            "  inflating: Chessman-image-dataset/Chess/Knight/00000059.jpg  \n",
            "  inflating: Chessman-image-dataset/Chess/Knight/00000060.jpg  \n",
            "  inflating: Chessman-image-dataset/Chess/Knight/00000064.jpg  \n",
            "  inflating: Chessman-image-dataset/Chess/Knight/00000065.jpg  \n",
            "  inflating: Chessman-image-dataset/Chess/Knight/00000066.jpg  \n",
            "  inflating: Chessman-image-dataset/Chess/Knight/00000067.jpg  \n",
            "  inflating: Chessman-image-dataset/Chess/Knight/00000068.jpg  \n",
            "  inflating: Chessman-image-dataset/Chess/Knight/00000071.jpg  \n",
            "  inflating: Chessman-image-dataset/Chess/Knight/00000074.jpg  \n",
            "  inflating: Chessman-image-dataset/Chess/Knight/00000075.jpg  \n",
            "  inflating: Chessman-image-dataset/Chess/Knight/00000076.jpg  \n",
            "  inflating: Chessman-image-dataset/Chess/Knight/00000078.jpg  \n",
            "  inflating: Chessman-image-dataset/Chess/Knight/00000079.jpg  \n",
            "  inflating: Chessman-image-dataset/Chess/Knight/00000081.jpg  \n",
            "  inflating: Chessman-image-dataset/Chess/Knight/00000085.png  \n",
            "  inflating: Chessman-image-dataset/Chess/Knight/00000086.jpg  \n",
            "  inflating: Chessman-image-dataset/Chess/Knight/00000088.jpg  \n",
            "  inflating: Chessman-image-dataset/Chess/Knight/00000089.jpg  \n",
            "  inflating: Chessman-image-dataset/Chess/Knight/00000090.jpg  \n",
            "  inflating: Chessman-image-dataset/Chess/Knight/00000092.jpg  \n",
            "  inflating: Chessman-image-dataset/Chess/Knight/00000094.jpg  \n",
            "  inflating: Chessman-image-dataset/Chess/Knight/00000095.jpg  \n",
            "  inflating: Chessman-image-dataset/Chess/Knight/00000097.jpg  \n",
            "  inflating: Chessman-image-dataset/Chess/Knight/00000098.jpg  \n",
            "  inflating: Chessman-image-dataset/Chess/Knight/00000099.jpg  \n",
            "  inflating: Chessman-image-dataset/Chess/Knight/00000100.jpg  \n",
            "  inflating: Chessman-image-dataset/Chess/Knight/00000101.jpg  \n",
            "  inflating: Chessman-image-dataset/Chess/Knight/00000106.jpg  \n",
            "  inflating: Chessman-image-dataset/Chess/Knight/00000109.jpg  \n",
            "  inflating: Chessman-image-dataset/Chess/Knight/00000112.jpg  \n",
            "  inflating: Chessman-image-dataset/Chess/Knight/00000113.jpg  \n",
            "  inflating: Chessman-image-dataset/Chess/Knight/00000114.jpg  \n",
            "  inflating: Chessman-image-dataset/Chess/Knight/00000116.png  \n",
            "  inflating: Chessman-image-dataset/Chess/Knight/00000118.jpg  \n",
            "  inflating: Chessman-image-dataset/Chess/Knight/00000120.jpg  \n",
            "  inflating: Chessman-image-dataset/Chess/Knight/00000122.jpg  \n",
            "  inflating: Chessman-image-dataset/Chess/Knight/00000123.jpg  \n",
            "  inflating: Chessman-image-dataset/Chess/Knight/00000125.jpg  \n",
            "  inflating: Chessman-image-dataset/Chess/Knight/00000126.png  \n",
            "  inflating: Chessman-image-dataset/Chess/Knight/00000128.jpg  \n",
            "  inflating: Chessman-image-dataset/Chess/Knight/00000133.jpg  \n",
            "  inflating: Chessman-image-dataset/Chess/Knight/00000134.jpg  \n",
            "  inflating: Chessman-image-dataset/Chess/Knight/00000137.jpg  \n",
            "  inflating: Chessman-image-dataset/Chess/Knight/00000141.jpg  \n",
            "  inflating: Chessman-image-dataset/Chess/Knight/00000142.jpg  \n",
            "  inflating: Chessman-image-dataset/Chess/Knight/00000145.jpg  \n",
            "  inflating: Chessman-image-dataset/Chess/Knight/00000146.jpg  \n",
            "  inflating: Chessman-image-dataset/Chess/Knight/00000149.jpg  \n",
            "  inflating: Chessman-image-dataset/Chess/Knight/00000154.jpg  \n",
            "  inflating: Chessman-image-dataset/Chess/Knight/00000155.jpg  \n",
            "  inflating: Chessman-image-dataset/Chess/Knight/00000160.webp  \n",
            "  inflating: Chessman-image-dataset/Chess/Knight/00000162.jpg  \n",
            "  inflating: Chessman-image-dataset/Chess/Knight/00000165.jpg  \n",
            "  inflating: Chessman-image-dataset/Chess/Knight/00000167.jpg  \n",
            "  inflating: Chessman-image-dataset/Chess/Knight/00000169.jpg  \n",
            "  inflating: Chessman-image-dataset/Chess/Knight/00000170.png  \n",
            "  inflating: Chessman-image-dataset/Chess/Knight/00000173.jpg  \n",
            "  inflating: Chessman-image-dataset/Chess/Knight/00000177.jpg  \n",
            "  inflating: Chessman-image-dataset/Chess/Knight/00000179.jpg  \n",
            "  inflating: Chessman-image-dataset/Chess/Knight/00000181.jpg  \n",
            "  inflating: Chessman-image-dataset/Chess/Knight/00000186.jpg  \n",
            "  inflating: Chessman-image-dataset/Chess/Knight/00000187.jpg  \n",
            "  inflating: Chessman-image-dataset/Chess/Knight/00000188.png  \n",
            "  inflating: Chessman-image-dataset/Chess/Knight/00000190.jpg  \n",
            "  inflating: Chessman-image-dataset/Chess/Knight/00000192.jpg  \n",
            "  inflating: Chessman-image-dataset/Chess/Knight/00000196.jpg  \n",
            "  inflating: Chessman-image-dataset/Chess/Knight/00000197.jpg  \n",
            "  inflating: Chessman-image-dataset/Chess/Knight/00000198.png  \n",
            "  inflating: Chessman-image-dataset/Chess/Pawn/00000000.jpg  \n",
            "  inflating: Chessman-image-dataset/Chess/Pawn/00000001.png  \n",
            "  inflating: Chessman-image-dataset/Chess/Pawn/00000002.jpg  \n",
            "  inflating: Chessman-image-dataset/Chess/Pawn/00000004.jpg  \n",
            "  inflating: Chessman-image-dataset/Chess/Pawn/00000005.jpg  \n",
            "  inflating: Chessman-image-dataset/Chess/Pawn/00000007.jpg  \n",
            "  inflating: Chessman-image-dataset/Chess/Pawn/00000010.jpg  \n",
            "  inflating: Chessman-image-dataset/Chess/Pawn/00000011.jpg  \n",
            "  inflating: Chessman-image-dataset/Chess/Pawn/00000012.jpg  \n",
            "  inflating: Chessman-image-dataset/Chess/Pawn/00000013.jpg  \n",
            "  inflating: Chessman-image-dataset/Chess/Pawn/00000014.png  \n",
            "  inflating: Chessman-image-dataset/Chess/Pawn/00000015.png  \n",
            "  inflating: Chessman-image-dataset/Chess/Pawn/00000016.jpg  \n",
            "  inflating: Chessman-image-dataset/Chess/Pawn/00000017.jpg  \n",
            "  inflating: Chessman-image-dataset/Chess/Pawn/00000019.jpg  \n",
            "  inflating: Chessman-image-dataset/Chess/Pawn/00000020.jpg  \n",
            "  inflating: Chessman-image-dataset/Chess/Pawn/00000021.fcgi  \n",
            "  inflating: Chessman-image-dataset/Chess/Pawn/00000022.jpg  \n",
            "  inflating: Chessman-image-dataset/Chess/Pawn/00000025.png  \n",
            "  inflating: Chessman-image-dataset/Chess/Pawn/00000026.jpg  \n",
            "  inflating: Chessman-image-dataset/Chess/Pawn/00000027.png  \n",
            "  inflating: Chessman-image-dataset/Chess/Pawn/00000028.jpg  \n",
            "  inflating: Chessman-image-dataset/Chess/Pawn/00000029.jpg  \n",
            "  inflating: Chessman-image-dataset/Chess/Pawn/00000031.jpg  \n",
            "  inflating: Chessman-image-dataset/Chess/Pawn/00000032.jpg  \n",
            "  inflating: Chessman-image-dataset/Chess/Pawn/00000033.jpg  \n",
            "  inflating: Chessman-image-dataset/Chess/Pawn/00000035.jpg  \n",
            "  inflating: Chessman-image-dataset/Chess/Pawn/00000037.jpeg  \n",
            "  inflating: Chessman-image-dataset/Chess/Pawn/00000039.jpg  \n",
            "  inflating: Chessman-image-dataset/Chess/Pawn/00000041.jpg  \n",
            "  inflating: Chessman-image-dataset/Chess/Pawn/00000042.png  \n",
            "  inflating: Chessman-image-dataset/Chess/Pawn/00000043.jpg  \n",
            "  inflating: Chessman-image-dataset/Chess/Pawn/00000048.jpg  \n",
            "  inflating: Chessman-image-dataset/Chess/Pawn/00000049.png  \n",
            "  inflating: Chessman-image-dataset/Chess/Pawn/00000055.jpg  \n",
            "  inflating: Chessman-image-dataset/Chess/Pawn/00000056.JPG  \n",
            "  inflating: Chessman-image-dataset/Chess/Pawn/00000057.jpg  \n",
            "  inflating: Chessman-image-dataset/Chess/Pawn/00000058.jpg  \n",
            "  inflating: Chessman-image-dataset/Chess/Pawn/00000059.jpg  \n",
            "  inflating: Chessman-image-dataset/Chess/Pawn/00000060.jpg  \n",
            "  inflating: Chessman-image-dataset/Chess/Pawn/00000063.jpg  \n",
            "  inflating: Chessman-image-dataset/Chess/Pawn/00000067.jpg  \n",
            "  inflating: Chessman-image-dataset/Chess/Pawn/00000069.jpg  \n",
            "  inflating: Chessman-image-dataset/Chess/Pawn/00000070.jpg  \n",
            "  inflating: Chessman-image-dataset/Chess/Pawn/00000071.jpg  \n",
            "  inflating: Chessman-image-dataset/Chess/Pawn/00000072.jpg  \n",
            "  inflating: Chessman-image-dataset/Chess/Pawn/00000073.jpg  \n",
            "  inflating: Chessman-image-dataset/Chess/Pawn/00000074.jpg  \n",
            "  inflating: Chessman-image-dataset/Chess/Pawn/00000078.jpg  \n",
            "  inflating: Chessman-image-dataset/Chess/Pawn/00000079.jpg  \n",
            "  inflating: Chessman-image-dataset/Chess/Pawn/00000080.png  \n",
            "  inflating: Chessman-image-dataset/Chess/Pawn/00000082.jpg  \n",
            "  inflating: Chessman-image-dataset/Chess/Pawn/00000083.jpg  \n",
            "  inflating: Chessman-image-dataset/Chess/Pawn/00000084.jpg  \n",
            "  inflating: Chessman-image-dataset/Chess/Pawn/00000085.jpg  \n",
            "  inflating: Chessman-image-dataset/Chess/Pawn/00000097.jpg  \n",
            "  inflating: Chessman-image-dataset/Chess/Pawn/00000099.jpg  \n",
            "  inflating: Chessman-image-dataset/Chess/Pawn/00000106.png  \n",
            "  inflating: Chessman-image-dataset/Chess/Pawn/00000107.jpg  \n",
            "  inflating: Chessman-image-dataset/Chess/Pawn/00000109.jpg  \n",
            "  inflating: Chessman-image-dataset/Chess/Pawn/00000110.jpg  \n",
            "  inflating: Chessman-image-dataset/Chess/Pawn/00000111.jpg  \n",
            "  inflating: Chessman-image-dataset/Chess/Pawn/00000112.jpg  \n",
            "  inflating: Chessman-image-dataset/Chess/Pawn/00000113.jpg  \n",
            "  inflating: Chessman-image-dataset/Chess/Pawn/00000114.jpg  \n",
            "  inflating: Chessman-image-dataset/Chess/Pawn/00000115.jpg  \n",
            "  inflating: Chessman-image-dataset/Chess/Pawn/00000116.jpg  \n",
            "  inflating: Chessman-image-dataset/Chess/Pawn/00000117.jpg  \n",
            "  inflating: Chessman-image-dataset/Chess/Pawn/00000119.png  \n",
            "  inflating: Chessman-image-dataset/Chess/Pawn/00000121.jpg  \n",
            "  inflating: Chessman-image-dataset/Chess/Pawn/00000122.jpg  \n",
            "  inflating: Chessman-image-dataset/Chess/Pawn/00000126.png  \n",
            "  inflating: Chessman-image-dataset/Chess/Pawn/00000133.jpg  \n",
            "  inflating: Chessman-image-dataset/Chess/Pawn/00000134.jpg  \n",
            "  inflating: Chessman-image-dataset/Chess/Pawn/00000135.jpg  \n",
            "  inflating: Chessman-image-dataset/Chess/Pawn/00000136.png  \n",
            "  inflating: Chessman-image-dataset/Chess/Pawn/00000137.jpg  \n",
            "  inflating: Chessman-image-dataset/Chess/Pawn/00000138.jpg  \n",
            "  inflating: Chessman-image-dataset/Chess/Pawn/00000139.jpg  \n",
            "  inflating: Chessman-image-dataset/Chess/Pawn/00000140.jpg  \n",
            "  inflating: Chessman-image-dataset/Chess/Pawn/00000141.jpg  \n",
            "  inflating: Chessman-image-dataset/Chess/Pawn/00000151.png  \n",
            "  inflating: Chessman-image-dataset/Chess/Pawn/00000152.jpg  \n",
            "  inflating: Chessman-image-dataset/Chess/Pawn/00000154.jpg  \n",
            "  inflating: Chessman-image-dataset/Chess/Pawn/00000156.png  \n",
            "  inflating: Chessman-image-dataset/Chess/Pawn/00000157.jpg  \n",
            "  inflating: Chessman-image-dataset/Chess/Pawn/00000161.jpg  \n",
            "  inflating: Chessman-image-dataset/Chess/Pawn/00000163.png  \n",
            "  inflating: Chessman-image-dataset/Chess/Pawn/00000166.jpg  \n",
            "  inflating: Chessman-image-dataset/Chess/Pawn/00000167.png  \n",
            "  inflating: Chessman-image-dataset/Chess/Pawn/00000169.jpg  \n",
            "  inflating: Chessman-image-dataset/Chess/Pawn/00000170.jpg  \n",
            "  inflating: Chessman-image-dataset/Chess/Pawn/00000171.jpg  \n",
            "  inflating: Chessman-image-dataset/Chess/Pawn/00000172.png  \n",
            "  inflating: Chessman-image-dataset/Chess/Pawn/00000174.jpg  \n",
            "  inflating: Chessman-image-dataset/Chess/Pawn/00000175.jpg  \n",
            "  inflating: Chessman-image-dataset/Chess/Pawn/00000176.jpg  \n",
            "  inflating: Chessman-image-dataset/Chess/Pawn/00000177.jpg  \n",
            "  inflating: Chessman-image-dataset/Chess/Pawn/00000178.jpg  \n",
            "  inflating: Chessman-image-dataset/Chess/Pawn/00000180.jpg  \n",
            "  inflating: Chessman-image-dataset/Chess/Pawn/00000182.jpg  \n",
            "  inflating: Chessman-image-dataset/Chess/Pawn/00000183.jpg  \n",
            "  inflating: Chessman-image-dataset/Chess/Pawn/00000192.jpg  \n",
            "  inflating: Chessman-image-dataset/Chess/Pawn/00000193.jpg  \n",
            "  inflating: Chessman-image-dataset/Chess/Pawn/00000196.jpg  \n",
            "  inflating: Chessman-image-dataset/Chess/Pawn/00000197.jpg  \n",
            "  inflating: Chessman-image-dataset/Chess/Pawn/00000199.jpg  \n",
            "  inflating: Chessman-image-dataset/Chess/Queen/00000001.jpg  \n",
            "  inflating: Chessman-image-dataset/Chess/Queen/00000003.jpg  \n",
            "  inflating: Chessman-image-dataset/Chess/Queen/00000004.JPG  \n",
            "  inflating: Chessman-image-dataset/Chess/Queen/00000005.jpg  \n",
            "  inflating: Chessman-image-dataset/Chess/Queen/00000006.jpg  \n",
            "  inflating: Chessman-image-dataset/Chess/Queen/00000007.jpg  \n",
            "  inflating: Chessman-image-dataset/Chess/Queen/00000008.jpg  \n",
            "  inflating: Chessman-image-dataset/Chess/Queen/00000010.jpg  \n",
            "  inflating: Chessman-image-dataset/Chess/Queen/00000011.jpg  \n",
            "  inflating: Chessman-image-dataset/Chess/Queen/00000012.jpg  \n",
            "  inflating: Chessman-image-dataset/Chess/Queen/00000013.jpg  \n",
            "  inflating: Chessman-image-dataset/Chess/Queen/00000014.jpg  \n",
            "  inflating: Chessman-image-dataset/Chess/Queen/00000015.jpg  \n",
            "  inflating: Chessman-image-dataset/Chess/Queen/00000017.jpg  \n",
            "  inflating: Chessman-image-dataset/Chess/Queen/00000018.jpg  \n",
            "  inflating: Chessman-image-dataset/Chess/Queen/00000019.png  \n",
            "  inflating: Chessman-image-dataset/Chess/Queen/00000021.jpg  \n",
            "  inflating: Chessman-image-dataset/Chess/Queen/00000022.jpg  \n",
            "  inflating: Chessman-image-dataset/Chess/Queen/00000023.jpg  \n",
            "  inflating: Chessman-image-dataset/Chess/Queen/00000025.jpg  \n",
            "  inflating: Chessman-image-dataset/Chess/Queen/00000026.jpg  \n",
            "  inflating: Chessman-image-dataset/Chess/Queen/00000028.jpg  \n",
            "  inflating: Chessman-image-dataset/Chess/Queen/00000030.png  \n",
            "  inflating: Chessman-image-dataset/Chess/Queen/00000032.jpeg  \n",
            "  inflating: Chessman-image-dataset/Chess/Queen/00000036.jpg  \n",
            "  inflating: Chessman-image-dataset/Chess/Queen/00000037.jpg  \n",
            "  inflating: Chessman-image-dataset/Chess/Queen/00000040.jpg  \n",
            "  inflating: Chessman-image-dataset/Chess/Queen/00000041.jpg  \n",
            "  inflating: Chessman-image-dataset/Chess/Queen/00000043.jpg  \n",
            "  inflating: Chessman-image-dataset/Chess/Queen/00000044.jpg  \n",
            "  inflating: Chessman-image-dataset/Chess/Queen/00000051.jpg  \n",
            "  inflating: Chessman-image-dataset/Chess/Queen/00000052.jpg  \n",
            "  inflating: Chessman-image-dataset/Chess/Queen/00000057.jpg  \n",
            "  inflating: Chessman-image-dataset/Chess/Queen/00000059.jpg  \n",
            "  inflating: Chessman-image-dataset/Chess/Queen/00000060.jpg  \n",
            "  inflating: Chessman-image-dataset/Chess/Queen/00000061.jpg  \n",
            "  inflating: Chessman-image-dataset/Chess/Queen/00000062.jpg  \n",
            "  inflating: Chessman-image-dataset/Chess/Queen/00000064.jpg  \n",
            "  inflating: Chessman-image-dataset/Chess/Queen/00000066.jpg  \n",
            "  inflating: Chessman-image-dataset/Chess/Queen/00000068.png  \n",
            "  inflating: Chessman-image-dataset/Chess/Queen/00000072.jpg  \n",
            "  inflating: Chessman-image-dataset/Chess/Queen/00000074.jpg  \n",
            "  inflating: Chessman-image-dataset/Chess/Queen/00000076.png  \n",
            "  inflating: Chessman-image-dataset/Chess/Queen/00000077.jpg  \n",
            "  inflating: Chessman-image-dataset/Chess/Queen/00000081.jpg  \n",
            "  inflating: Chessman-image-dataset/Chess/Queen/00000084.jpeg  \n",
            "  inflating: Chessman-image-dataset/Chess/Queen/00000086.jpg  \n",
            "  inflating: Chessman-image-dataset/Chess/Queen/00000087.jpg  \n",
            "  inflating: Chessman-image-dataset/Chess/Queen/00000088.jpg  \n",
            "  inflating: Chessman-image-dataset/Chess/Queen/00000094.jpg  \n",
            "  inflating: Chessman-image-dataset/Chess/Queen/00000098.jpg  \n",
            "  inflating: Chessman-image-dataset/Chess/Queen/00000109.jpg  \n",
            "  inflating: Chessman-image-dataset/Chess/Queen/00000116.jpg  \n",
            "  inflating: Chessman-image-dataset/Chess/Queen/00000118.jpg  \n",
            "  inflating: Chessman-image-dataset/Chess/Queen/00000119.jpg  \n",
            "  inflating: Chessman-image-dataset/Chess/Queen/00000127.jpg  \n",
            "  inflating: Chessman-image-dataset/Chess/Queen/00000131.jpg  \n",
            "  inflating: Chessman-image-dataset/Chess/Queen/00000132.png  \n",
            "  inflating: Chessman-image-dataset/Chess/Queen/00000139.jpg  \n",
            "  inflating: Chessman-image-dataset/Chess/Queen/00000143.jpg  \n",
            "  inflating: Chessman-image-dataset/Chess/Queen/00000144.png  \n",
            "  inflating: Chessman-image-dataset/Chess/Queen/00000151.jpg  \n",
            "  inflating: Chessman-image-dataset/Chess/Queen/00000162.jpg  \n",
            "  inflating: Chessman-image-dataset/Chess/Queen/00000167.jpg  \n",
            "  inflating: Chessman-image-dataset/Chess/Queen/00000170.php  \n",
            "  inflating: Chessman-image-dataset/Chess/Queen/00000173.jpg  \n",
            "  inflating: Chessman-image-dataset/Chess/Queen/00000182.jpg  \n",
            "  inflating: Chessman-image-dataset/Chess/Queen/00000193.jpg  \n",
            "  inflating: Chessman-image-dataset/Chess/Queen/00000195.jpg  \n",
            "  inflating: Chessman-image-dataset/Chess/Queen/00000196.jpg  \n",
            "  inflating: Chessman-image-dataset/Chess/Queen/00000199.jpg  \n",
            "  inflating: Chessman-image-dataset/Chess/Queen/00000200.png  \n",
            "  inflating: Chessman-image-dataset/Chess/Queen/00000204.jpg  \n",
            "  inflating: Chessman-image-dataset/Chess/Queen/00000214.jpg  \n",
            "  inflating: Chessman-image-dataset/Chess/Queen/00000219.jpg  \n",
            "  inflating: Chessman-image-dataset/Chess/Queen/00000221.jpg  \n",
            "  inflating: Chessman-image-dataset/Chess/Queen/00000232.jpg  \n",
            "  inflating: Chessman-image-dataset/Chess/Queen/00000279.jpg  \n",
            "  inflating: Chessman-image-dataset/Chess/Rook/00000002.JPG  \n",
            "  inflating: Chessman-image-dataset/Chess/Rook/00000003.JPG  \n",
            "  inflating: Chessman-image-dataset/Chess/Rook/00000004.jpg  \n",
            "  inflating: Chessman-image-dataset/Chess/Rook/00000005.jpg  \n",
            "  inflating: Chessman-image-dataset/Chess/Rook/00000006.jpg  \n",
            "  inflating: Chessman-image-dataset/Chess/Rook/00000007.jpg  \n",
            "  inflating: Chessman-image-dataset/Chess/Rook/00000008.jpg  \n",
            "  inflating: Chessman-image-dataset/Chess/Rook/00000010.jpg  \n",
            "  inflating: Chessman-image-dataset/Chess/Rook/00000011.jpg  \n",
            "  inflating: Chessman-image-dataset/Chess/Rook/00000014.jpg  \n",
            "  inflating: Chessman-image-dataset/Chess/Rook/00000015.jpg  \n",
            "  inflating: Chessman-image-dataset/Chess/Rook/00000016.jpg  \n",
            "  inflating: Chessman-image-dataset/Chess/Rook/00000017.jpg  \n",
            "  inflating: Chessman-image-dataset/Chess/Rook/00000018.jpg  \n",
            "  inflating: Chessman-image-dataset/Chess/Rook/00000019.jpg  \n",
            "  inflating: Chessman-image-dataset/Chess/Rook/00000020.jpg  \n",
            "  inflating: Chessman-image-dataset/Chess/Rook/00000021.jpg  \n",
            "  inflating: Chessman-image-dataset/Chess/Rook/00000022.jpg  \n",
            "  inflating: Chessman-image-dataset/Chess/Rook/00000024.jpg  \n",
            "  inflating: Chessman-image-dataset/Chess/Rook/00000025.jpeg  \n",
            "  inflating: Chessman-image-dataset/Chess/Rook/00000026.png  \n",
            "  inflating: Chessman-image-dataset/Chess/Rook/00000027.jpg  \n",
            "  inflating: Chessman-image-dataset/Chess/Rook/00000028.jpg  \n",
            "  inflating: Chessman-image-dataset/Chess/Rook/00000031.jpg  \n",
            "  inflating: Chessman-image-dataset/Chess/Rook/00000032.jpg  \n",
            "  inflating: Chessman-image-dataset/Chess/Rook/00000033.jpg  \n",
            "  inflating: Chessman-image-dataset/Chess/Rook/00000034.jpg  \n",
            "  inflating: Chessman-image-dataset/Chess/Rook/00000035.jpg  \n",
            "  inflating: Chessman-image-dataset/Chess/Rook/00000038.jpg  \n",
            "  inflating: Chessman-image-dataset/Chess/Rook/00000044.jpg  \n",
            "  inflating: Chessman-image-dataset/Chess/Rook/00000045.jpg  \n",
            "  inflating: Chessman-image-dataset/Chess/Rook/00000046.jpg  \n",
            "  inflating: Chessman-image-dataset/Chess/Rook/00000049.jpg  \n",
            "  inflating: Chessman-image-dataset/Chess/Rook/00000050.jpg  \n",
            "  inflating: Chessman-image-dataset/Chess/Rook/00000051.jpg  \n",
            "  inflating: Chessman-image-dataset/Chess/Rook/00000053.jpg  \n",
            "  inflating: Chessman-image-dataset/Chess/Rook/00000054.jpg  \n",
            "  inflating: Chessman-image-dataset/Chess/Rook/00000056.png  \n",
            "  inflating: Chessman-image-dataset/Chess/Rook/00000058.jpg  \n",
            "  inflating: Chessman-image-dataset/Chess/Rook/00000059.jpg  \n",
            "  inflating: Chessman-image-dataset/Chess/Rook/00000061.jpg  \n",
            "  inflating: Chessman-image-dataset/Chess/Rook/00000063.jpg  \n",
            "  inflating: Chessman-image-dataset/Chess/Rook/00000064.png  \n",
            "  inflating: Chessman-image-dataset/Chess/Rook/00000065.jpg  \n",
            "  inflating: Chessman-image-dataset/Chess/Rook/00000066.png  \n",
            "  inflating: Chessman-image-dataset/Chess/Rook/00000071.jpg  \n",
            "  inflating: Chessman-image-dataset/Chess/Rook/00000072.jpg  \n",
            "  inflating: Chessman-image-dataset/Chess/Rook/00000073.jpg  \n",
            "  inflating: Chessman-image-dataset/Chess/Rook/00000074.jpg  \n",
            "  inflating: Chessman-image-dataset/Chess/Rook/00000075.jpg  \n",
            "  inflating: Chessman-image-dataset/Chess/Rook/00000076.jpg  \n",
            "  inflating: Chessman-image-dataset/Chess/Rook/00000077.jpg  \n",
            "  inflating: Chessman-image-dataset/Chess/Rook/00000079.jpg  \n",
            "  inflating: Chessman-image-dataset/Chess/Rook/00000082.jpg  \n",
            "  inflating: Chessman-image-dataset/Chess/Rook/00000083.jpg  \n",
            "  inflating: Chessman-image-dataset/Chess/Rook/00000084.png  \n",
            "  inflating: Chessman-image-dataset/Chess/Rook/00000085.png  \n",
            "  inflating: Chessman-image-dataset/Chess/Rook/00000086.jpg  \n",
            "  inflating: Chessman-image-dataset/Chess/Rook/00000088.jpg  \n",
            "  inflating: Chessman-image-dataset/Chess/Rook/00000095.jpg  \n",
            "  inflating: Chessman-image-dataset/Chess/Rook/00000097.jpg  \n",
            "  inflating: Chessman-image-dataset/Chess/Rook/00000098.png  \n",
            "  inflating: Chessman-image-dataset/Chess/Rook/00000099.jpg  \n",
            "  inflating: Chessman-image-dataset/Chess/Rook/00000101.jpg  \n",
            "  inflating: Chessman-image-dataset/Chess/Rook/00000102.jpg  \n",
            "  inflating: Chessman-image-dataset/Chess/Rook/00000103.png  \n",
            "  inflating: Chessman-image-dataset/Chess/Rook/00000107.jpg  \n",
            "  inflating: Chessman-image-dataset/Chess/Rook/00000112.jpg  \n",
            "  inflating: Chessman-image-dataset/Chess/Rook/00000113.jpg  \n",
            "  inflating: Chessman-image-dataset/Chess/Rook/00000114.jpg  \n",
            "  inflating: Chessman-image-dataset/Chess/Rook/00000116.jpg  \n",
            "  inflating: Chessman-image-dataset/Chess/Rook/00000117.jpg  \n",
            "  inflating: Chessman-image-dataset/Chess/Rook/00000118.jpg  \n",
            "  inflating: Chessman-image-dataset/Chess/Rook/00000119.jpg  \n",
            "  inflating: Chessman-image-dataset/Chess/Rook/00000120.jpg  \n",
            "  inflating: Chessman-image-dataset/Chess/Rook/00000121.jpg  \n",
            "  inflating: Chessman-image-dataset/Chess/Rook/00000124.png  \n",
            "  inflating: Chessman-image-dataset/Chess/Rook/00000125.jpg  \n",
            "  inflating: Chessman-image-dataset/Chess/Rook/00000127.jpg  \n",
            "  inflating: Chessman-image-dataset/Chess/Rook/00000130.jpeg  \n",
            "  inflating: Chessman-image-dataset/Chess/Rook/00000131.jpg  \n",
            "  inflating: Chessman-image-dataset/Chess/Rook/00000132.jpg  \n",
            "  inflating: Chessman-image-dataset/Chess/Rook/00000135.jpg  \n",
            "  inflating: Chessman-image-dataset/Chess/Rook/00000136.jpg  \n",
            "  inflating: Chessman-image-dataset/Chess/Rook/00000142.jpg  \n",
            "  inflating: Chessman-image-dataset/Chess/Rook/00000145.jpg  \n",
            "  inflating: Chessman-image-dataset/Chess/Rook/00000147.jpg  \n",
            "  inflating: Chessman-image-dataset/Chess/Rook/00000159.jpg  \n",
            "  inflating: Chessman-image-dataset/Chess/Rook/00000160.jpg  \n",
            "  inflating: Chessman-image-dataset/Chess/Rook/00000163.jpg  \n",
            "  inflating: Chessman-image-dataset/Chess/Rook/00000164.jpg  \n",
            "  inflating: Chessman-image-dataset/Chess/Rook/00000165.jpg  \n",
            "  inflating: Chessman-image-dataset/Chess/Rook/00000168.jpg  \n",
            "  inflating: Chessman-image-dataset/Chess/Rook/00000171.jpg  \n",
            "  inflating: Chessman-image-dataset/Chess/Rook/00000177.JPG  \n",
            "  inflating: Chessman-image-dataset/Chess/Rook/00000179.png  \n",
            "  inflating: Chessman-image-dataset/Chess/Rook/00000180.jpg  \n",
            "  inflating: Chessman-image-dataset/Chess/Rook/00000184.jpg  \n",
            "  inflating: Chessman-image-dataset/Chess/Rook/00000185.jpg  \n",
            "  inflating: Chessman-image-dataset/Chess/Rook/00000189.jpg  \n",
            "  inflating: Chessman-image-dataset/Chess/Rook/00000195.jpg  \n",
            "  inflating: Chessman-image-dataset/Chess/Rook/00000197.jpg  \n"
          ]
        }
      ]
    },
    {
      "cell_type": "code",
      "source": [
        "import numpy as np\n",
        "import pandas as pd\n",
        "import seaborn as sns\n",
        "import matplotlib.pyplot as plt\n",
        "from sklearn.metrics import ConfusionMatrixDisplay\n",
        "import tensorflow as tf\n",
        "from tensorflow import keras\n",
        "from tensorflow.keras.layers import *\n",
        "from sklearn.metrics import classification_report"
      ],
      "metadata": {
        "id": "80jHgzgtO_w0"
      },
      "execution_count": 7,
      "outputs": []
    },
    {
      "cell_type": "code",
      "source": [
        "image_size = (48,48)\n",
        "batch = 32\n",
        "\n",
        "train = keras.preprocessing.image_dataset_from_directory(\n",
        "    'Chessman-image-dataset/Chess/',\n",
        "    validation_split = .2,\n",
        "    subset='training',\n",
        "    seed = 42,\n",
        "    image_size = image_size,\n",
        "    batch_size = batch,\n",
        "    label_mode = 'categorical'\n",
        ")"
      ],
      "metadata": {
        "colab": {
          "base_uri": "https://localhost:8080/"
        },
        "id": "LQSxYcstujnN",
        "outputId": "61bb14ed-ba63-49c5-a23c-ed96b464d88d"
      },
      "execution_count": 8,
      "outputs": [
        {
          "output_type": "stream",
          "name": "stdout",
          "text": [
            "Found 552 files belonging to 6 classes.\n",
            "Using 442 files for training.\n"
          ]
        }
      ]
    },
    {
      "cell_type": "code",
      "source": [
        "validation = keras.preprocessing.image_dataset_from_directory(\n",
        "    'Chessman-image-dataset/Chess/',\n",
        "    validation_split=.2,\n",
        "    subset='validation',\n",
        "    seed=42,\n",
        "    image_size=image_size,\n",
        "    batch_size=batch,\n",
        "    label_mode = 'categorical'\n",
        ")"
      ],
      "metadata": {
        "colab": {
          "base_uri": "https://localhost:8080/"
        },
        "id": "VQuFut8zwDEk",
        "outputId": "64f88a27-5022-4996-b302-a5ece434d9e4"
      },
      "execution_count": 9,
      "outputs": [
        {
          "output_type": "stream",
          "name": "stdout",
          "text": [
            "Found 552 files belonging to 6 classes.\n",
            "Using 110 files for validation.\n"
          ]
        }
      ]
    },
    {
      "cell_type": "code",
      "source": [
        "def display_samples(dataset, n_samples, classes_name):\n",
        "  plt.figure(figsize=(10, 10))\n",
        "  for images,labels in dataset.take(1):\n",
        "    for i in range(n_samples):\n",
        "      ax = plt.subplot(3,3,i+1)\n",
        "      plt.imshow(images[i].numpy().astype(\"uint8\"))\n",
        "      plt.title(classes_name[np.argmax(labels[i])])\n",
        "      plt.axis(\"off\")"
      ],
      "metadata": {
        "id": "r5pocoNdwDGk"
      },
      "execution_count": 10,
      "outputs": []
    },
    {
      "cell_type": "code",
      "source": [
        "display_samples(train, 9, train.class_names)\n",
        "for images, labels in train.take(1):\n",
        "  for i in range(1):\n",
        "    print(images[i].shape)"
      ],
      "metadata": {
        "colab": {
          "base_uri": "https://localhost:8080/",
          "height": 846
        },
        "id": "76dy2Jj6wDJO",
        "outputId": "3dd563b5-ebaf-49f2-ba61-e57b40318a61"
      },
      "execution_count": 11,
      "outputs": [
        {
          "output_type": "stream",
          "name": "stdout",
          "text": [
            "(48, 48, 3)\n"
          ]
        },
        {
          "output_type": "display_data",
          "data": {
            "text/plain": [
              "<Figure size 1000x1000 with 9 Axes>"
            ],
            "image/png": "[encoded data removed]"
          },
          "metadata": {}
        }
      ]
    },
    {
      "cell_type": "code",
      "source": [
        "class_names = train.class_names\n",
        "labels = np.array([])\n",
        "for _, label in train:\n",
        "  labels = np.concatenate((labels, np.argmax(label,axis=-1)))\n",
        "_, counts = np.unique(labels, return_counts=True)"
      ],
      "metadata": {
        "id": "UEt245wJwDMi"
      },
      "execution_count": 12,
      "outputs": []
    },
    {
      "cell_type": "code",
      "source": [
        "counts"
      ],
      "metadata": {
        "colab": {
          "base_uri": "https://localhost:8080/"
        },
        "id": "6kP7RsPxAS8O",
        "outputId": "d0fc275b-634e-4aa7-981e-ce8e301555c8"
      },
      "execution_count": 13,
      "outputs": [
        {
          "output_type": "execute_result",
          "data": {
            "text/plain": [
              "array([71, 62, 85, 83, 64, 77])"
            ]
          },
          "metadata": {},
          "execution_count": 13
        }
      ]
    },
    {
      "cell_type": "code",
      "source": [
        "input_shape = (image_size[0], image_size[1],3)\n",
        "reg = keras.regularizers.l2(0.0005)\n",
        "\n",
        "model = keras.Sequential()\n",
        "model.add(Conv2D(32,(3,3), padding=\"same\",activation=\"relu\",input_shape=image_size + (3,), kernel_regularizer=reg))\n",
        "model.add(MaxPooling2D(pool_size = (2,2)))\n",
        "\n",
        "model.add(Conv2D(64, (3,3), padding=\"same\", activation=\"relu\", kernel_regularizer=reg))\n",
        "model.add(MaxPooling2D(pool_size=(2,2)))\n",
        "\n",
        "model.add(Conv2D(128,(3,3),padding=\"same\",activation=\"relu\",kernel_regularizer=reg))\n",
        "model.add(MaxPooling2D(pool_size=(2,2)))\n",
        "\n",
        "model.add(Dropout(0.25))\n",
        "\n",
        "model.add(Flatten())\n",
        "model.add(Dense(128,activation=\"relu\"))\n",
        "model.add(BatchNormalization())\n",
        "model.add(Dropout(0.5))\n",
        "model.add(Dense(len(train.class_names),activation='softmax'))\n",
        "\n",
        "model.summary()"
      ],
      "metadata": {
        "colab": {
          "base_uri": "https://localhost:8080/"
        },
        "id": "T1w30ZVEAS-i",
        "outputId": "1143dd2d-1e3c-43f6-9a4f-0e86d0567cdb"
      },
      "execution_count": 14,
      "outputs": [
        {
          "output_type": "stream",
          "name": "stdout",
          "text": [
            "Model: \"sequential\"\n",
            "_________________________________________________________________\n",
            " Layer (type)                Output Shape              Param #   \n",
            "=================================================================\n",
            " conv2d (Conv2D)             (None, 48, 48, 32)        896       \n",
            "                                                                 \n",
            " max_pooling2d (MaxPooling2  (None, 24, 24, 32)        0         \n",
            " D)                                                              \n",
            "                                                                 \n",
            " conv2d_1 (Conv2D)           (None, 24, 24, 64)        18496     \n",
            "                                                                 \n",
            " max_pooling2d_1 (MaxPoolin  (None, 12, 12, 64)        0         \n",
            " g2D)                                                            \n",
            "                                                                 \n",
            " conv2d_2 (Conv2D)           (None, 12, 12, 128)       73856     \n",
            "                                                                 \n",
            " max_pooling2d_2 (MaxPoolin  (None, 6, 6, 128)         0         \n",
            " g2D)                                                            \n",
            "                                                                 \n",
            " dropout (Dropout)           (None, 6, 6, 128)         0         \n",
            "                                                                 \n",
            " flatten (Flatten)           (None, 4608)              0         \n",
            "                                                                 \n",
            " dense (Dense)               (None, 128)               589952    \n",
            "                                                                 \n",
            " batch_normalization (Batch  (None, 128)               512       \n",
            " Normalization)                                                  \n",
            "                                                                 \n",
            " dropout_1 (Dropout)         (None, 128)               0         \n",
            "                                                                 \n",
            " dense_1 (Dense)             (None, 6)                 774       \n",
            "                                                                 \n",
            "=================================================================\n",
            "Total params: 684486 (2.61 MB)\n",
            "Trainable params: 684230 (2.61 MB)\n",
            "Non-trainable params: 256 (1.00 KB)\n",
            "_________________________________________________________________\n"
          ]
        }
      ]
    },
    {
      "cell_type": "code",
      "source": [
        "model.compile(\n",
        "    loss=\"categorical_crossentropy\",\n",
        "    optimizer=\"adam\",\n",
        "    metrics=[\"accuracy\"]\n",
        ")\n",
        "\n",
        "epochs = 8\n",
        "model.fit(\n",
        "    train,\n",
        "    epochs=epochs,\n",
        "    validation_data=validation\n",
        ");"
      ],
      "metadata": {
        "colab": {
          "base_uri": "https://localhost:8080/"
        },
        "id": "smGQEoQJDKOV",
        "outputId": "989a5e91-8f19-4f53-e111-dbb79c6d936d"
      },
      "execution_count": 15,
      "outputs": [
        {
          "output_type": "stream",
          "name": "stdout",
          "text": [
            "Epoch 1/8\n",
            "14/14 [==============================] - 24s 681ms/step - loss: 2.5637 - accuracy: 0.1946 - val_loss: 9.0591 - val_accuracy: 0.1182\n",
            "Epoch 2/8\n",
            "14/14 [==============================] - 9s 304ms/step - loss: 2.3315 - accuracy: 0.1742 - val_loss: 6.2797 - val_accuracy: 0.1455\n",
            "Epoch 3/8\n",
            "14/14 [==============================] - 7s 336ms/step - loss: 2.1736 - accuracy: 0.2104 - val_loss: 3.3277 - val_accuracy: 0.1091\n",
            "Epoch 4/8\n",
            "14/14 [==============================] - 6s 287ms/step - loss: 2.1461 - accuracy: 0.1900 - val_loss: 2.6733 - val_accuracy: 0.1000\n",
            "Epoch 5/8\n",
            "14/14 [==============================] - 7s 289ms/step - loss: 2.0339 - accuracy: 0.2511 - val_loss: 2.7465 - val_accuracy: 0.2182\n",
            "Epoch 6/8\n",
            "14/14 [==============================] - 6s 295ms/step - loss: 2.0676 - accuracy: 0.2308 - val_loss: 2.4689 - val_accuracy: 0.1455\n",
            "Epoch 7/8\n",
            "14/14 [==============================] - 6s 229ms/step - loss: 2.0440 - accuracy: 0.2602 - val_loss: 1.9619 - val_accuracy: 0.2636\n",
            "Epoch 8/8\n",
            "14/14 [==============================] - 6s 240ms/step - loss: 1.8636 - accuracy: 0.3032 - val_loss: 1.8247 - val_accuracy: 0.2909\n"
          ]
        }
      ]
    },
    {
      "cell_type": "code",
      "source": [
        "epochs_range = [i+1 for i in range(epochs)]\n",
        "plt.plot(epochs_range, model.history.history['accuracy'],'-o',label='Train')\n",
        "plt.plot(epochs_range, model.history.history['val_accuracy'],'-x',label=\"Validation\")\n",
        "\n",
        "plt.ylabel('Accuracy')\n",
        "plt.xlabel('Epochs')\n",
        "\n",
        "plt.legend()"
      ],
      "metadata": {
        "colab": {
          "base_uri": "https://localhost:8080/",
          "height": 466
        },
        "id": "4ghn97B-ATAX",
        "outputId": "a8e75741-0fa9-46cd-e874-fde054fc9d81"
      },
      "execution_count": 16,
      "outputs": [
        {
          "output_type": "execute_result",
          "data": {
            "text/plain": [
              "<matplotlib.legend.Legend at 0x7e1c82f4d690>"
            ]
          },
          "metadata": {},
          "execution_count": 16
        },
        {
          "output_type": "display_data",
          "data": {
            "text/plain": [
              "<Figure size 640x480 with 1 Axes>"
            ],
            "image/png": "[encoded data removed]"
          },
          "metadata": {}
        }
      ]
    },
    {
      "cell_type": "code",
      "source": [
        "y_pred = np.argmax(model.predict(validation), axis=-1)\n",
        "\n",
        "predictions = np.array([])\n",
        "labels = np.array([])\n",
        "for x,y in validation:\n",
        "  predictions = np.concatenate([predictions, np.argmax(model.predict(x), axis=-1)])\n",
        "  labels = np.concatenate([labels, np.argmax(y.numpy(),axis=-1)])"
      ],
      "metadata": {
        "colab": {
          "base_uri": "https://localhost:8080/"
        },
        "id": "jjdfNA4PATCp",
        "outputId": "03bd9177-8b94-4a8c-9b08-b446a5693418"
      },
      "execution_count": 17,
      "outputs": [
        {
          "output_type": "stream",
          "name": "stdout",
          "text": [
            "4/4 [==============================] - 1s 36ms/step\n",
            "1/1 [==============================] - 0s 135ms/step\n",
            "1/1 [==============================] - 0s 54ms/step\n",
            "1/1 [==============================] - 0s 57ms/step\n",
            "1/1 [==============================] - 0s 130ms/step\n"
          ]
        }
      ]
    },
    {
      "cell_type": "code",
      "source": [
        "conf = tf.math.confusion_matrix(labels=labels, predictions = predictions)\n",
        "sns.heatmap(conf, annot=True, cmap='Blues',yticklabels = class_names, xticklabels=class_names)"
      ],
      "metadata": {
        "colab": {
          "base_uri": "https://localhost:8080/",
          "height": 447
        },
        "id": "zXYyfQ-JATFW",
        "outputId": "7b0a4044-cc52-4101-ff5e-10cf572434a6"
      },
      "execution_count": 18,
      "outputs": [
        {
          "output_type": "execute_result",
          "data": {
            "text/plain": [
              "<Axes: >"
            ]
          },
          "metadata": {},
          "execution_count": 18
        },
        {
          "output_type": "display_data",
          "data": {
            "text/plain": [
              "<Figure size 640x480 with 2 Axes>"
            ],
            "image/png": "[encoded data removed]"
          },
          "metadata": {}
        }
      ]
    }
  ]
}